{
 "cells": [
  {
   "cell_type": "markdown",
   "metadata": {},
   "source": [
    "# Задание №1+ Дополнительная часть"
   ]
  },
  {
   "cell_type": "code",
   "execution_count": 1,
   "metadata": {},
   "outputs": [],
   "source": [
    "\"\"\"Будем парсить страницу со свежеми новостям на habr.com/ru/all/.\n",
    "Вам необходимо собирать только те статьи, в которых встречается хотя бы одно требуемое ключевое слово. Эти слова определяем в начале кода в переменной, например:\n",
    "KEYWORDS = ['python', 'парсинг']\n",
    "Поиск вести по всей доступной preview-информации (это информация, доступная непосредственно с текущей страницы).\n",
    "В итоге должен формироваться датафрейм вида: Итоговый датафрейм формировать со столбцами: <дата> - <заголовок> - <ссылка> - <текст_статьи>\"\"\"\n",
    "import requests\n",
    "from bs4 import BeautifulSoup\n",
    "import time"
   ]
  },
  {
   "cell_type": "code",
   "execution_count": 2,
   "metadata": {},
   "outputs": [],
   "source": [
    "\"\"\"Находим ссылки новостей\"\"\"\n",
    "\n",
    "def get_all_links(URL):\n",
    "    res = requests.get(URL)\n",
    "    time.sleep(0.3)\n",
    "    soup = BeautifulSoup(res.text, 'html.parser')\n",
    "    news_blocks = soup.find_all('li', class_='content-list__item')\n",
    "    article_post = soup.find_all('h2', 'post__title')\n",
    "    all_refs = list(map(lambda x: x.find('a').get('href'),article_post))\n",
    "   \n",
    "    return all_refs"
   ]
  },
  {
   "cell_type": "code",
   "execution_count": 3,
   "metadata": {},
   "outputs": [
    {
     "data": {
      "text/plain": [
       "['https://habr.com/ru/post/543844/',\n",
       " 'https://habr.com/ru/post/541852/',\n",
       " 'https://habr.com/ru/post/543602/',\n",
       " 'https://habr.com/ru/post/543832/',\n",
       " 'https://habr.com/ru/company/action360/blog/543804/',\n",
       " 'https://habr.com/ru/post/543838/',\n",
       " 'https://habr.com/ru/post/543790/',\n",
       " 'https://habr.com/ru/post/543830/',\n",
       " 'https://habr.com/ru/post/543834/',\n",
       " 'https://habr.com/ru/post/543828/',\n",
       " 'https://habr.com/ru/post/543700/',\n",
       " 'https://habr.com/ru/company/timeweb/blog/543822/',\n",
       " 'https://habr.com/ru/post/543818/',\n",
       " 'https://habr.com/ru/company/itsoft/blog/543812/',\n",
       " 'https://habr.com/ru/post/543806/',\n",
       " 'https://habr.com/ru/post/543802/',\n",
       " 'https://habr.com/ru/post/543798/',\n",
       " 'https://habr.com/ru/post/543774/',\n",
       " 'https://habr.com/ru/company/englishdom/blog/543720/',\n",
       " 'https://habr.com/ru/company/skillfactory/blog/543788/']"
      ]
     },
     "execution_count": 3,
     "metadata": {},
     "output_type": "execute_result"
    }
   ],
   "source": [
    "URL = 'https://habr.com/ru/all/'\n",
    "all_refs = get_all_links (URL)\n",
    "all_refs"
   ]
  },
  {
   "cell_type": "code",
   "execution_count": 4,
   "metadata": {},
   "outputs": [],
   "source": [
    "import pandas as pd\n",
    "import re"
   ]
  },
  {
   "cell_type": "code",
   "execution_count": 5,
   "metadata": {},
   "outputs": [],
   "source": [
    "\"\"\"1 вариант\"\"\"\n",
    "def get_kom_news(links,KEYWORDS):\n",
    "    kom_news = pd.DataFrame()\n",
    "    for link in all_refs:\n",
    "        soup = BeautifulSoup(requests.get(link).text, 'html.parser')\n",
    "        text = soup.find('div', class_='post__body post__body_full').text\n",
    "        for word in KEYWORDS:\n",
    "            \"\"\"проходим циклом по искомым словам\"\"\"\n",
    "            if word in text:\n",
    "                date = pd.to_datetime(soup.find('span', class_='post__time').get('data-time_published'), dayfirst=True).date()  \n",
    "                title = soup.find('h1', class_='post__title post__title_full').text\n",
    "                text_key = text\n",
    "                link_key = link\n",
    "                row = {'date': date, 'link': link_key,'title': title, 'text': text_key}\n",
    "                kom_news = pd.concat([kom_news, pd.DataFrame([row])])\n",
    "            else:\n",
    "                continue                \n",
    "    return kom_news"
   ]
  },
  {
   "cell_type": "code",
   "execution_count": 6,
   "metadata": {},
   "outputs": [
    {
     "data": {
      "text/html": [
       "<div>\n",
       "<style scoped>\n",
       "    .dataframe tbody tr th:only-of-type {\n",
       "        vertical-align: middle;\n",
       "    }\n",
       "\n",
       "    .dataframe tbody tr th {\n",
       "        vertical-align: top;\n",
       "    }\n",
       "\n",
       "    .dataframe thead th {\n",
       "        text-align: right;\n",
       "    }\n",
       "</style>\n",
       "<table border=\"1\" class=\"dataframe\">\n",
       "  <thead>\n",
       "    <tr style=\"text-align: right;\">\n",
       "      <th></th>\n",
       "      <th>date</th>\n",
       "      <th>link</th>\n",
       "      <th>title</th>\n",
       "      <th>text</th>\n",
       "    </tr>\n",
       "  </thead>\n",
       "  <tbody>\n",
       "    <tr>\n",
       "      <th>0</th>\n",
       "      <td>2021-02-23</td>\n",
       "      <td>https://habr.com/ru/company/action360/blog/543...</td>\n",
       "      <td>\\nVR-тренинги, EdTech-стартапы и электронный д...</td>\n",
       "      <td>\\nМы начали обсуждать трансформацию сферы обра...</td>\n",
       "    </tr>\n",
       "    <tr>\n",
       "      <th>0</th>\n",
       "      <td>2021-02-23</td>\n",
       "      <td>https://habr.com/ru/company/timeweb/blog/543822/</td>\n",
       "      <td>\\nПолезные расширения VS Code для JavaScript-р...</td>\n",
       "      <td>\\nНедавно мы опубликовали перевод статьи про п...</td>\n",
       "    </tr>\n",
       "    <tr>\n",
       "      <th>0</th>\n",
       "      <td>2021-02-23</td>\n",
       "      <td>https://habr.com/ru/post/543806/</td>\n",
       "      <td>\\nАудит паролей Активной Директории Windows\\n</td>\n",
       "      <td>\\nЕсли в вашей компании активно используется д...</td>\n",
       "    </tr>\n",
       "    <tr>\n",
       "      <th>0</th>\n",
       "      <td>2021-02-23</td>\n",
       "      <td>https://habr.com/ru/post/543806/</td>\n",
       "      <td>\\nАудит паролей Активной Директории Windows\\n</td>\n",
       "      <td>\\nЕсли в вашей компании активно используется д...</td>\n",
       "    </tr>\n",
       "    <tr>\n",
       "      <th>0</th>\n",
       "      <td>2021-02-23</td>\n",
       "      <td>https://habr.com/ru/post/543798/</td>\n",
       "      <td>\\nРеализация Minecraft Query протокола в .Net ...</td>\n",
       "      <td>\\nMinecraft Server Query – это простой протоко...</td>\n",
       "    </tr>\n",
       "    <tr>\n",
       "      <th>0</th>\n",
       "      <td>2021-02-23</td>\n",
       "      <td>https://habr.com/ru/company/skillfactory/blog/...</td>\n",
       "      <td>\\nКибервойна. Когда 500 Кб кода страшнее межко...</td>\n",
       "      <td>\\n\\r\\nПривет, Хабр! Мы искренне поздравляем вс...</td>\n",
       "    </tr>\n",
       "  </tbody>\n",
       "</table>\n",
       "</div>"
      ],
      "text/plain": [
       "         date                                               link  \\\n",
       "0  2021-02-23  https://habr.com/ru/company/action360/blog/543...   \n",
       "0  2021-02-23   https://habr.com/ru/company/timeweb/blog/543822/   \n",
       "0  2021-02-23                   https://habr.com/ru/post/543806/   \n",
       "0  2021-02-23                   https://habr.com/ru/post/543806/   \n",
       "0  2021-02-23                   https://habr.com/ru/post/543798/   \n",
       "0  2021-02-23  https://habr.com/ru/company/skillfactory/blog/...   \n",
       "\n",
       "                                               title  \\\n",
       "0  \\nVR-тренинги, EdTech-стартапы и электронный д...   \n",
       "0  \\nПолезные расширения VS Code для JavaScript-р...   \n",
       "0      \\nАудит паролей Активной Директории Windows\\n   \n",
       "0      \\nАудит паролей Активной Директории Windows\\n   \n",
       "0  \\nРеализация Minecraft Query протокола в .Net ...   \n",
       "0  \\nКибервойна. Когда 500 Кб кода страшнее межко...   \n",
       "\n",
       "                                                text  \n",
       "0  \\nМы начали обсуждать трансформацию сферы обра...  \n",
       "0  \\nНедавно мы опубликовали перевод статьи про п...  \n",
       "0  \\nЕсли в вашей компании активно используется д...  \n",
       "0  \\nЕсли в вашей компании активно используется д...  \n",
       "0  \\nMinecraft Server Query – это простой протоко...  \n",
       "0  \\n\\r\\nПривет, Хабр! Мы искренне поздравляем вс...  "
      ]
     },
     "execution_count": 6,
     "metadata": {},
     "output_type": "execute_result"
    }
   ],
   "source": [
    "KEYWORDS = ['python','Python','парс']\n",
    "kom_news = get_kom_news(all_refs, KEYWORDS)\n",
    "kom_news"
   ]
  },
  {
   "cell_type": "code",
   "execution_count": 7,
   "metadata": {},
   "outputs": [],
   "source": [
    "# \"\"\"2 вариант\"\"\"\n",
    "# def get_kom_news_1 (links):\n",
    "#     kom_news = pd.DataFrame()\n",
    "#     for link in all_refs:\n",
    "#         soup = BeautifulSoup(requests.get(link).text, 'html.parser')\n",
    "#         if soup.find('span', class_='post__time'):\n",
    "#             date = pd.to_datetime(soup.find('span', class_='post__time').get('data-time_published'), dayfirst=True).date()\n",
    "#         if soup.find('h1', class_='post__title post__title_full'): \n",
    "#             title = soup.find('h1', class_='post__title post__title_full').text\n",
    "#         text = soup.find('div', class_='post__body post__body_full').text\n",
    "#         row = {'date': date, 'link': link,'title': title, 'text': text}\n",
    "#         kom_news = pd.concat([kom_news, pd.DataFrame([row])])  \n",
    "#     return kom_news"
   ]
  },
  {
   "cell_type": "code",
   "execution_count": 8,
   "metadata": {},
   "outputs": [],
   "source": [
    "# kom_news_2 = get_kom_news_1 (all_refs)\n",
    "# kom_news_2.head()"
   ]
  },
  {
   "cell_type": "code",
   "execution_count": 9,
   "metadata": {},
   "outputs": [
    {
     "data": {
      "text/plain": [
       "'Выдает ошибку, не поняла почему.'"
      ]
     },
     "execution_count": 9,
     "metadata": {},
     "output_type": "execute_result"
    }
   ],
   "source": [
    "\"\"\"Выдает ошибку, не поняла почему.\"\"\"\n",
    "# kom_news_2[kom_news_2.text.str.contains('Python',case = False)].head()"
   ]
  },
  {
   "cell_type": "markdown",
   "metadata": {},
   "source": [
    "# Задача №2"
   ]
  },
  {
   "cell_type": "code",
   "execution_count": 12,
   "metadata": {},
   "outputs": [
    {
     "data": {
      "text/html": [
       "<div>\n",
       "<style scoped>\n",
       "    .dataframe tbody tr th:only-of-type {\n",
       "        vertical-align: middle;\n",
       "    }\n",
       "\n",
       "    .dataframe tbody tr th {\n",
       "        vertical-align: top;\n",
       "    }\n",
       "\n",
       "    .dataframe thead th {\n",
       "        text-align: right;\n",
       "    }\n",
       "</style>\n",
       "<table border=\"1\" class=\"dataframe\">\n",
       "  <thead>\n",
       "    <tr style=\"text-align: right;\">\n",
       "      <th></th>\n",
       "      <th>publishDate</th>\n",
       "      <th>site</th>\n",
       "      <th>description</th>\n",
       "      <th>statistics</th>\n",
       "      <th>Почта</th>\n",
       "    </tr>\n",
       "  </thead>\n",
       "  <tbody>\n",
       "    <tr>\n",
       "      <th>12</th>\n",
       "      <td>2016-10-29T00:00:00Z</td>\n",
       "      <td>vk.com</td>\n",
       "      <td>Popular Russian social networking platform VKo...</td>\n",
       "      <td>{'usernames': 0, 'passwords': 107425364, 'emai...</td>\n",
       "      <td>lismak1@mail.ru</td>\n",
       "    </tr>\n",
       "    <tr>\n",
       "      <th>13460</th>\n",
       "      <td>2018-01-20T00:00:00Z</td>\n",
       "      <td>k-vrachu.ru</td>\n",
       "      <td>In January 2016, K-Vrachu's database was alleg...</td>\n",
       "      <td>{'usernames': 463418, 'passwords': 463421, 'em...</td>\n",
       "      <td>lismak1@mail.ru</td>\n",
       "    </tr>\n",
       "    <tr>\n",
       "      <th>17609</th>\n",
       "      <td>2020-05-21T00:00:00Z</td>\n",
       "      <td>vk.com</td>\n",
       "      <td>At some time in 2020, the Russian social netwo...</td>\n",
       "      <td>{'usernames': 0, 'passwords': 0, 'emails': 205...</td>\n",
       "      <td>salavat-m@mail.ru</td>\n",
       "    </tr>\n",
       "    <tr>\n",
       "      <th>60</th>\n",
       "      <td>2016-11-01T00:00:00Z</td>\n",
       "      <td>qip.ru</td>\n",
       "      <td>In 2011, Russian instant messaging service pro...</td>\n",
       "      <td>{'usernames': 0, 'passwords': 29231325, 'email...</td>\n",
       "      <td>salavat-m@mail.ru</td>\n",
       "    </tr>\n",
       "    <tr>\n",
       "      <th>4505</th>\n",
       "      <td>2017-06-14T00:00:00Z</td>\n",
       "      <td>nnm-club.me</td>\n",
       "      <td>In September 2013, Russian torrent tracker NNM...</td>\n",
       "      <td>{'usernames': 6848208, 'passwords': 6852955, '...</td>\n",
       "      <td>salavat-m@mail.ru</td>\n",
       "    </tr>\n",
       "    <tr>\n",
       "      <th>12</th>\n",
       "      <td>2016-10-29T00:00:00Z</td>\n",
       "      <td>vk.com</td>\n",
       "      <td>Popular Russian social networking platform VKo...</td>\n",
       "      <td>{'usernames': 0, 'passwords': 107425364, 'emai...</td>\n",
       "      <td>salavat-m@mail.ru</td>\n",
       "    </tr>\n",
       "    <tr>\n",
       "      <th>13460</th>\n",
       "      <td>2018-01-20T00:00:00Z</td>\n",
       "      <td>k-vrachu.ru</td>\n",
       "      <td>In January 2016, K-Vrachu's database was alleg...</td>\n",
       "      <td>{'usernames': 463418, 'passwords': 463421, 'em...</td>\n",
       "      <td>salavat-m@mail.ru</td>\n",
       "    </tr>\n",
       "  </tbody>\n",
       "</table>\n",
       "</div>"
      ],
      "text/plain": [
       "                publishDate         site  \\\n",
       "12     2016-10-29T00:00:00Z       vk.com   \n",
       "13460  2018-01-20T00:00:00Z  k-vrachu.ru   \n",
       "17609  2020-05-21T00:00:00Z       vk.com   \n",
       "60     2016-11-01T00:00:00Z       qip.ru   \n",
       "4505   2017-06-14T00:00:00Z  nnm-club.me   \n",
       "12     2016-10-29T00:00:00Z       vk.com   \n",
       "13460  2018-01-20T00:00:00Z  k-vrachu.ru   \n",
       "\n",
       "                                             description  \\\n",
       "12     Popular Russian social networking platform VKo...   \n",
       "13460  In January 2016, K-Vrachu's database was alleg...   \n",
       "17609  At some time in 2020, the Russian social netwo...   \n",
       "60     In 2011, Russian instant messaging service pro...   \n",
       "4505   In September 2013, Russian torrent tracker NNM...   \n",
       "12     Popular Russian social networking platform VKo...   \n",
       "13460  In January 2016, K-Vrachu's database was alleg...   \n",
       "\n",
       "                                              statistics              Почта  \n",
       "12     {'usernames': 0, 'passwords': 107425364, 'emai...    lismak1@mail.ru  \n",
       "13460  {'usernames': 463418, 'passwords': 463421, 'em...    lismak1@mail.ru  \n",
       "17609  {'usernames': 0, 'passwords': 0, 'emails': 205...  salavat-m@mail.ru  \n",
       "60     {'usernames': 0, 'passwords': 29231325, 'email...  salavat-m@mail.ru  \n",
       "4505   {'usernames': 6848208, 'passwords': 6852955, '...  salavat-m@mail.ru  \n",
       "12     {'usernames': 0, 'passwords': 107425364, 'emai...  salavat-m@mail.ru  \n",
       "13460  {'usernames': 463418, 'passwords': 463421, 'em...  salavat-m@mail.ru  "
      ]
     },
     "execution_count": 12,
     "metadata": {},
     "output_type": "execute_result"
    }
   ],
   "source": [
    "\"\"\"\n",
    "Написать скрипт, который будет проверять список e-mail адресов на утечку при помощи сервиса Avast Hack Ckeck. Список email-ов задаем переменной в начале кода:\n",
    "EMAIL = [xxx@x.ru, yyy@y.com]\n",
    "В итоге должен формироваться датафрейм со столбцами: <почта> - <дата утечки> - <источник утечки> - <описание утечки>\"\"\"\n",
    "import json\n",
    "URL = 'https://identityprotection.avast.com/v1/web/query/site-breaches/unauthorized-data'\n",
    "emails = ['lismak1@mail.ru', 'salavat-m@mail.ru']\n",
    "res_passwords = pd.DataFrame()\n",
    "for email in emails:\n",
    "    params = {'emailAddresses':[email]}\n",
    "    time.sleep(0.33)\n",
    "    req = requests.post(URL,  data = json.dumps(params), headers =  {'Vaar-Version': '0','Vaar-Header-App-Product': 'hackcheck-web-avast'})\n",
    "    req_1 = pd.DataFrame(req.json()['breaches'])\n",
    "    res_ = req_1.transpose()\n",
    "    result = res_.loc[:,['publishDate','site','description','statistics']]\n",
    "    result['Почта'] = email\n",
    "    res_passwords = pd.concat([res_passwords, result])\n",
    "res_passwords"
   ]
  }
 ],
 "metadata": {
  "kernelspec": {
   "display_name": "Python 3",
   "language": "python",
   "name": "python3"
  },
  "language_info": {
   "codemirror_mode": {
    "name": "ipython",
    "version": 3
   },
   "file_extension": ".py",
   "mimetype": "text/x-python",
   "name": "python",
   "nbconvert_exporter": "python",
   "pygments_lexer": "ipython3",
   "version": "3.8.5"
  }
 },
 "nbformat": 4,
 "nbformat_minor": 4
}
